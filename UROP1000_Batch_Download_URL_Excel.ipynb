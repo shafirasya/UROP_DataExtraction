{
  "nbformat": 4,
  "nbformat_minor": 0,
  "metadata": {
    "colab": {
      "provenance": []
    },
    "kernelspec": {
      "name": "python3",
      "display_name": "Python 3"
    },
    "language_info": {
      "name": "python"
    }
  },
  "cells": [
    {
      "cell_type": "code",
      "execution_count": null,
      "metadata": {
        "id": "brQN4t--iSlI"
      },
      "outputs": [],
      "source": [
        "import openpyxl\n",
        "import requests\n",
        "import time\n",
        "from bs4 import BeautifulSoup\n",
        "from google.colab import files\n",
        "import os\n",
        "import pandas as pd"
      ]
    },
    {
      "cell_type": "code",
      "source": [
        "# Load the Excel file\n",
        "year = '2019' # change accordingly\n",
        "file_name = year+' Merged Lists.xlsx'\n",
        "sheet_name = year+' Merged'\n",
        "\n",
        "start = 201 # starting row/company\n",
        "end = 300 #ending row/company\n",
        "\n",
        "workbook = openpyxl.load_workbook(file_name) # specify the file name\n",
        "sheet = workbook[sheet_name] # specify the sheet, otherwise use workbook.active to refer to the 1st sheet in the file"
      ],
      "metadata": {
        "id": "HNy5kSCMiz1K"
      },
      "execution_count": null,
      "outputs": []
    },
    {
      "cell_type": "code",
      "source": [
        "companies_data = sheet.iter_rows(min_row=start, max_row=end, values_only=True) # specify the starting row and finishing row [3-505] (can download all in 1 go, but it will be so long so maybe better to break it down)"
      ],
      "metadata": {
        "id": "2s1cI1QzmBqO"
      },
      "execution_count": null,
      "outputs": []
    },
    {
      "cell_type": "code",
      "source": [
        "identifiers = []\n",
        "company_names = []\n",
        "links = []\n",
        "\n",
        "# Get the identifiers, company names, and links from the Excel file\n",
        "\n",
        "for row in companies_data:\n",
        "  identifiers.append(row[0])\n",
        "  company_names.append(row[1])\n",
        "  links.append(row[4])"
      ],
      "metadata": {
        "id": "6B5sMVTvmgmT"
      },
      "execution_count": null,
      "outputs": []
    },
    {
      "cell_type": "code",
      "source": [
        "len(identifiers), identifiers[-2:], company_names[-2:], links[-2:] # checking only"
      ],
      "metadata": {
        "id": "YszId5wZrI6J",
        "colab": {
          "base_uri": "https://localhost:8080/"
        },
        "outputId": "f15f0d8e-b00a-4953-9c48-ac8108865ea8"
      },
      "execution_count": null,
      "outputs": [
        {
          "output_type": "execute_result",
          "data": {
            "text/plain": [
              "(100,\n",
              " ['L.N', 'LOW.N'],\n",
              " ['Loews Corp', \"Lowe's Companies Inc\"],\n",
              " ['#N/A',\n",
              "  'https://1g0r7s45brd833po5f1d5yyb-wpengine.netdna-ssl.com/wp-content/uploads/2019/07/Lowes_2018CRReport_071919.pdf'])"
            ]
          },
          "metadata": {},
          "execution_count": 5
        }
      ]
    },
    {
      "cell_type": "code",
      "source": [
        "# Create a directory to save the downloaded files\n",
        "folder = year+'_downloaded_files_'+str(start)+'_'+str(end)\n",
        "\n",
        "if not os.path.exists(folder):\n",
        "    os.makedirs(folder) # create new folder to store all found documents\n",
        "\n",
        "# Create a DataFrame to store the download results\n",
        "download_results = pd.DataFrame(columns=['Identifier', 'Company Name', 'File Name', 'Downloaded'])"
      ],
      "metadata": {
        "id": "H-ztOgVnlZ-M"
      },
      "execution_count": null,
      "outputs": []
    },
    {
      "cell_type": "code",
      "source": [
        "# Set the maximum download time (in seconds)\n",
        "max_download_time = 5 # recommend 10 s"
      ],
      "metadata": {
        "id": "NqdfU-TiVkYp"
      },
      "execution_count": null,
      "outputs": []
    },
    {
      "cell_type": "code",
      "source": [
        "for identifier, company_name, link in zip(identifiers, company_names, links):\n",
        "\n",
        "    file_status = ''\n",
        "    download_status = False\n",
        "\n",
        "    if link == '#N/A':  # skip companies that still don't have a link\n",
        "        print('Link is N/A')\n",
        "        file_status = 'N/A'\n",
        "\n",
        "    else:\n",
        "        start_time = time.time()\n",
        "\n",
        "        try:\n",
        "            # Make the HTTP request and get the response\n",
        "            response = requests.get(link, stream=True, timeout=max_download_time)\n",
        "\n",
        "            # Check if the response is successful\n",
        "            response.raise_for_status()\n",
        "\n",
        "            # Generate the file name\n",
        "            file_name = f\"{identifier}_{year}.pdf\"\n",
        "            file_path = os.path.join(folder, file_name)\n",
        "\n",
        "            # Save the file to disk\n",
        "            with open(file_path, 'wb') as file:\n",
        "                for chunk in response.iter_content(chunk_size=8192):\n",
        "                    file.write(chunk)\n",
        "\n",
        "            print(f'Downloaded: {file_name}')\n",
        "            file_status = file_name\n",
        "            download_status = True\n",
        "\n",
        "        except requests.exceptions.Timeout:\n",
        "            print(f\"Download of {link} took longer than {max_download_time} seconds. Skipping this file.\")\n",
        "            file_status = 'Timed Out, link: '+link\n",
        "\n",
        "        except Exception as e:\n",
        "            print(f'Error downloading {link}: {e}')\n",
        "            file_status = 'Invalid'\n",
        "\n",
        "    new_row = pd.DataFrame({'Identifier': [identifier], 'Company Name': [company_name], 'File Name': [file_status], 'Downloaded': [download_status]})\n",
        "    download_results = pd.concat([download_results, new_row], ignore_index=True)\n"
      ],
      "metadata": {
        "colab": {
          "base_uri": "https://localhost:8080/"
        },
        "id": "AasAgy8JX9lK",
        "outputId": "b66ff5ec-5c51-45d2-d2da-249e84ca65fb"
      },
      "execution_count": null,
      "outputs": [
        {
          "output_type": "stream",
          "name": "stdout",
          "text": [
            "Error downloading http://www.firstsolar.com/en/Global/Sustainability-Documents/Sustainability-Report---2020?dl=1: 500 Server Error: Internal Server Error for url: https://www.firstsolar.com/sitecore/service/nolayout.aspx?item=%2fglobal%2fsustainability-documents%2fsustainability-report---2020&layout=%7b00000000-0000-0000-0000-000000000000%7d&device=Default\n",
            "Downloaded: FE.N_2019.pdf\n",
            "Link is N/A\n",
            "Downloaded: FMC.N_2019.pdf\n",
            "Error downloading https://s23.q4cdn.com/799033206/files/doc_downloads/esg/2020/06/Ford-sr20.pdf: 403 Client Error: Forbidden for url: https://s23.q4cdn.com/799033206/files/doc_downloads/esg/2020/06/Ford-sr20.pdf\n",
            "Downloaded: FTNT.OQ_2019.pdf\n",
            "Error downloading https://www.fortive.com/sites/default/files/inline-files/55819-199_Fortive_SustainabilityReport_AW3_ONLINE.pdf: 404 Client Error: Not Found for url: https://www.fortive.com/sites/default/files/inline-files/55819-199_Fortive_SustainabilityReport_AW3_ONLINE.pdf\n",
            "Link is N/A\n",
            "Link is N/A\n",
            "Link is N/A\n",
            "Downloaded: FCX.N_2019.pdf\n",
            "Link is N/A\n",
            "Error downloading https://emtemp.gcom.cloud/ngw/globalassets/en/about/documents/gartner-csr-report-2019.pdf: 403 Client Error: Forbidden for url: https://emt.gartnerweb.com/ngw/globalassets/en/about/documents/gartner-csr-report-2019.pdf\n",
            "Link is N/A\n",
            "Link is N/A\n",
            "Download of http://filings.research.refinitiv.com/filings.viewer/Download.aspx?DocumentID=52201430&contentformat=pdf took longer than 5 seconds. Skipping this file.\n",
            "Link is N/A\n",
            "Downloaded: GD.N_2019.pdf\n",
            "Error downloading Not Available: Invalid URL 'Not Available': No scheme supplied. Perhaps you meant https://Not Available?\n",
            "Error downloading https://globalresponsibility.generalmills.com/images/General_Mills-Global_Responsibility_2020.pdf: 404 Client Error: Not Found for url: https://globalresponsibility.generalmills.com/images/General_Mills-Global_Responsibility_2020.pdf\n",
            "Error downloading https://www.sec.gov/ix?doc=/Archives/edgar/data/1467858/000146785820000028/gm201910k.htm: 403 Client Error: Forbidden for url: https://www.sec.gov/ix?doc=/Archives/edgar/data/1467858/000146785820000028/gm201910k.htm\n",
            "Downloaded: GPC.N_2019.pdf\n",
            "Downloaded: GILD.OQ_2019.pdf\n",
            "Error downloading https://s21.q4cdn.com/254933054/files/doc_downloads/global_responsibility/Global-Payments_2020_Corporate-Responsibility-Report.pdf: 404 Client Error: Not Found for url: https://s21.q4cdn.com/254933054/files/doc_downloads/global_responsibility/Global-Payments_2020_Corporate-Responsibility-Report.pdf\n",
            "Link is N/A\n",
            "Link is N/A\n",
            "Error downloading https://www.goldmansachs.com/what-we-do/sustainable-finance/documents/reports/2019-sustainability-report.pdf: 404 Client Error: Not Found for url: https://www.goldmansachs.com/what-we-do/sustainable-finance/documents/reports/2019-sustainability-report.pdf\n",
            "Error downloading https://asr.halliburton.com/halliburton/annual/2019/gb/English/pdf/Halliburton19_Annual_Sustainability_Report.pdf: 404 Client Error: Not Found for url: https://www.halliburton.com/en/error/404?path=/content/halliburton/en/sustainability/annual-sustainability-reporthalliburton/annual/2019/gb/english/pdf/halliburton19_annual_sustainability_report.pdf.html\n",
            "Download of https://s0.hfdstatic.com/sites/the_hartford/files/gri-g4-matrix.pdf took longer than 5 seconds. Skipping this file.\n",
            "Downloaded: HAS.OQ_2019.pdf\n",
            "Error downloading https://hcahealthcare.com/util/documents/2020/2020-Document-HCA-Healthcare-2020-Sustainability-Report-a.pdf: 404 Client Error:  for url: https://hcahealthcare.com/util/documents/2020/2020-Document-HCA-Healthcare-2020-Sustainability-Report-a.pdf\n",
            "Downloaded: DOC.N_2019.pdf\n",
            "Downloaded: HSIC.OQ_2019.pdf\n",
            "Downloaded: HSY.N_2019.pdf\n",
            "Downloaded: HES.N_2019.pdf\n",
            "Downloaded: HPE.N_2019.pdf\n",
            "Downloaded: HLT.N_2019.pdf\n",
            "Downloaded: HOLX.OQ_2019.pdf\n",
            "Download of https://filings.research.refinitiv.com/filings.viewer/Download.aspx?DocumentID=51877922&contentformat=pdf took longer than 5 seconds. Skipping this file.\n",
            "Error downloading https://www.honeywell.com/content/dam/honeywell/files/Corporate_Citizenship_Report_2020.pdf: 404 Client Error: Not Found for url: https://www.honeywell.com/content/dam/honeywell/files/Corporate_Citizenship_Report_2020.pdf\n",
            "Downloaded: HRL.N_2019.pdf\n",
            "Downloaded: HST.OQ_2019.pdf\n",
            "Downloaded: HWM.N_2019.pdf\n",
            "Error downloading https://h20195.www2.hp.com/v2/GetDocument.aspx?docname=c07539064: HTTPSConnectionPool(host='h20195.www2.hp.com', port=443): Max retries exceeded with url: /v2/GetDocument.aspx?docname=c07539064 (Caused by SSLError(SSLCertVerificationError(1, '[SSL: CERTIFICATE_VERIFY_FAILED] certificate verify failed: unable to get local issuer certificate (_ssl.c:1007)')))\n",
            "Error downloading https://www.sec.gov/ix?doc=/Archives/edgar/data/48898/000162828020001557/hubb-20191231x10k.htm: 403 Client Error: Forbidden for url: https://www.sec.gov/ix?doc=/Archives/edgar/data/48898/000162828020001557/hubb-20191231x10k.htm\n",
            "Error downloading http://humanacsrreport.com/pdfs/Humana-2019-CSR-Report.pdf: HTTPConnectionPool(host='humanacsrreport.com', port=80): Max retries exceeded with url: /pdfs/Humana-2019-CSR-Report.pdf (Caused by NameResolutionError(\"<urllib3.connection.HTTPConnection object at 0x792e7ab77970>: Failed to resolve 'humanacsrreport.com' ([Errno -5] No address associated with hostname)\"))\n",
            "Error downloading http://huntington-ir.com/main/hban2019esg.pdf: 404 Client Error: Not Found for url: https://ir.huntington.com/main/hban2019esg.pdf\n",
            "Link is N/A\n",
            "Error downloading https://www.idexcorp.com/wp-content/uploads/2021/03/2020_IDEX_CSR_Report.pdf: 404 Client Error: Not Found for url: https://www.idexcorp.com/wp-content/uploads/2021/03/2020_IDEX_CSR_Report.pdf\n",
            "Error downloading https://idexxcom-live-b02da1e51e754c9cb292133b-9c56c33.aldryn-media.com/filer_public/ca/98/ca98c63c-567e-482f-9e83-b75dc653a625/idexx-corporate-responsibility-report-2020.pdf: HTTPSConnectionPool(host='idexxcom-live-b02da1e51e754c9cb292133b-9c56c33.aldryn-media.com', port=443): Max retries exceeded with url: /filer_public/ca/98/ca98c63c-567e-482f-9e83-b75dc653a625/idexx-corporate-responsibility-report-2020.pdf (Caused by NameResolutionError(\"<urllib3.connection.HTTPSConnection object at 0x792e7ab20760>: Failed to resolve 'idexxcom-live-b02da1e51e754c9cb292133b-9c56c33.aldryn-media.com' ([Errno -2] Name or service not known)\"))\n",
            "Error downloading https://itw-csr.com/wp-content/uploads/2020/05/ITW-2019-CSR-Report.pdf: 404 Client Error: Not Found for url: https://itw-csr.com/wp-content/uploads/2020/05/ITW-2019-CSR-Report.pdf\n",
            "Link is N/A\n",
            "Downloaded: IR.N_2019.pdf\n",
            "Error downloading https://investor.insulet.com/static-files/51c32251-f0d0-4044-af33-433a8c040fdc: 403 Client Error: Forbidden for url: https://investor.insulet.com/static-files/51c32251-f0d0-4044-af33-433a8c040fdc\n",
            "Downloaded: INTC.OQ_2019.pdf\n",
            "Error downloading https://www.theice.com/publicdocs/CRR_2020.pdf: 404 Client Error: Not Found for url: https://www.ice.com/publicdocs/CRR_2020.pdf\n",
            "Error downloading Not Available: Invalid URL 'Not Available': No scheme supplied. Perhaps you meant https://Not Available?\n",
            "Error downloading https://www.iff.com/~/media/Files/I/IFF-V2/documents/iff-sustainability-report-2019.pdf: 404 Client Error: Not Found for url: https://www.iff.com/~/media/Files/I/IFF-V2/documents/iff-sustainability-report-2019.pdf\n",
            "Error downloading http://www.internationalpaper.com/docs/default-source/english/global-homepage/footer/2019-global-citizenship-report-international-paper.pdf?sfvrsn=f3f5b533_28: 404 Client Error: Not Found for url: https://www.internationalpaper.com/docs/default-source/english/global-homepage/footer/2019-global-citizenship-report-international-paper.pdf?sfvrsn=f3f5b533_28\n",
            "Error downloading https://www.interpublic.com/wp-content/uploads/2021/04/IPG-2020-GRI-Report.pdf: 403 Client Error: Forbidden for url: https://www.interpublic.com/wp-content/uploads/2021/04/IPG-2020-GRI-Report.pdf\n",
            "Downloaded: INTU.OQ_2019.pdf\n",
            "Downloaded: ISRG.OQ_2019.pdf\n",
            "Error downloading https://www.invesco.com/corporate/dam/jcr:d22e70ed-bd98-4f61-b70c-9ffd5936fc61/2019%20CSR%20Report%20with%20link%20to%20Climate%20Change%20Report%20Added%20final%207.14.20.pdf: 404 Client Error: Not Found for url: https://www.invesco.com/corporate/dam/jcr:d22e70ed-bd98-4f61-b70c-9ffd5936fc61/2019%20CSR%20Report%20with%20link%20to%20Climate%20Change%20Report%20Added%20final%207.14.20.pdf\n",
            "Link is N/A\n",
            "Downloaded: IQV.N_2019.pdf\n",
            "Download of http://ust.filings.irc.refinitiv.com/ust/view/54244297 took longer than 5 seconds. Skipping this file.\n",
            "Link is N/A\n",
            "Downloaded: SJM.N_2019.pdf\n",
            "Error downloading https://www.sec.gov/Archives/edgar/data/898293/000119312519271646/d782178d10k.htm: 403 Client Error: Forbidden for url: https://www.sec.gov/Archives/edgar/data/898293/000119312519271646/d782178d10k.htm\n",
            "Link is N/A\n",
            "Downloaded: J.N_2019.pdf\n",
            "Error downloading https://healthforhumanityreport.jnj.com/_document/2019-heath-for-humanity-report-johnson-johnson?id=00000172-a8f8-dff3-a9fa-acfda52c0000: 404 Client Error: Not Found for url: https://healthforhumanityreport.jnj.com/_document/2019-heath-for-humanity-report-johnson-johnson?id=00000172-a8f8-dff3-a9fa-acfda52c0000\n",
            "Link is N/A\n",
            "Error downloading https://www.jpmorganchase.com/corporate/Corporate-Responsibility/document/jpmc-environmental-and-social-policy-framework.pdf: 404 Client Error: Not Found for url: https://www.jpmorganchase.com/corporate/Corporate-Responsibility/document/jpmc-environmental-and-social-policy-framework.pdf\n",
            "Downloaded: JNPR.N_2019.pdf\n",
            "Error downloading https://s1.q4cdn.com/243145854/files/doc_downloads/2020/kcr-execsummary-2019-2020_final.pdf: 404 Client Error: Not Found for url: https://s1.q4cdn.com/243145854/files/doc_downloads/2020/kcr-execsummary-2019-2020_final.pdf\n",
            "Link is N/A\n",
            "Error downloading https://www.keurigdrpepper.com/content/dam/keurig-brand-sites/kdp/files/KDP-CR-Report-2019.pdf: 404 Client Error: Not Found for url: https://www.keurigdrpepper.com/content/dam/keurig-brand-sites/kdp/files/KDP-CR-Report-2019.pdf\n",
            "Error downloading https://www.key.com/kco/images/2019-CR-report_052120.pdf: 403 Client Error: Forbidden for url: https://www.key.com/kco/images/2019-CR-report_052120.pdf\n",
            "Error downloading https://www.keysight.com/sg/en/assets/7120-1131/corporate-reports/2019-Corporate-Social-Responsibility-Report.pdf: 403 Client Error: Forbidden for url: https://www.keysight.com/sg/en/assets/7120-1131/corporate-reports/2019-Corporate-Social-Responsibility-Report.pdf\n",
            "Downloaded: KMB.N_2019.pdf\n",
            "Downloaded: KIM.N_2019.pdf\n",
            "Downloaded: KMI.N_2019.pdf\n",
            "Download of https://kkresg.com/kkr-today#2008 took longer than 5 seconds. Skipping this file.\n",
            "Downloaded: KLAC.OQ_2019.pdf\n",
            "Downloaded: KHC.OQ_2019.pdf\n",
            "Downloaded: KR.N_2019.pdf\n",
            "Error downloading https://www.l3t.com/sustainability: 403 Client Error: Forbidden for url: https://www.l3harris.com/404\n",
            "Link is N/A\n",
            "Downloaded: LRCX.OQ_2019.pdf\n",
            "Error downloading https://esg.lambweston.com/LambWeston_2020_ESG.pdf: 404 Client Error: Not Found for url: https://esg.lambweston.com/LambWeston_2020_ESG.pdf\n",
            "Error downloading https://www.sands.com/content/dam/corporate/sands/master/main/home/our-commitment/cro-2019-v2.0.0.pdf: 404 Client Error: Not Found for url: https://www.sands.com/content/dam/corporate/sands/master/main/home/our-commitment/cro-2019-v2.0.0.pdf\n",
            "Downloaded: LDOS.N_2019.pdf\n",
            "Link is N/A\n",
            "Link is N/A\n",
            "Link is N/A\n",
            "Link is N/A\n",
            "Downloaded: LMT.N_2019.pdf\n",
            "Link is N/A\n",
            "Error downloading https://1g0r7s45brd833po5f1d5yyb-wpengine.netdna-ssl.com/wp-content/uploads/2019/07/Lowes_2018CRReport_071919.pdf: HTTPSConnectionPool(host='1g0r7s45brd833po5f1d5yyb-wpengine.netdna-ssl.com', port=443): Max retries exceeded with url: /wp-content/uploads/2019/07/Lowes_2018CRReport_071919.pdf (Caused by NameResolutionError(\"<urllib3.connection.HTTPSConnection object at 0x792e7ab22aa0>: Failed to resolve '1g0r7s45brd833po5f1d5yyb-wpengine.netdna-ssl.com' ([Errno -2] Name or service not known)\"))\n"
          ]
        }
      ]
    },
    {
      "cell_type": "code",
      "source": [
        "# Save the download results to an Excel file\n",
        "excel_file = year+'_download_results_'+str(start)+'_'+str(end)+'.xlsx'\n",
        "download_results.to_excel(excel_file, index=False)\n",
        "files.download(f\"/content/{excel_file}\")"
      ],
      "metadata": {
        "id": "MkvFPX1SbViA",
        "colab": {
          "base_uri": "https://localhost:8080/",
          "height": 17
        },
        "outputId": "c415cc38-7b1d-40a9-b30b-3c19e99dc2bb"
      },
      "execution_count": null,
      "outputs": [
        {
          "output_type": "display_data",
          "data": {
            "text/plain": [
              "<IPython.core.display.Javascript object>"
            ],
            "application/javascript": [
              "\n",
              "    async function download(id, filename, size) {\n",
              "      if (!google.colab.kernel.accessAllowed) {\n",
              "        return;\n",
              "      }\n",
              "      const div = document.createElement('div');\n",
              "      const label = document.createElement('label');\n",
              "      label.textContent = `Downloading \"${filename}\": `;\n",
              "      div.appendChild(label);\n",
              "      const progress = document.createElement('progress');\n",
              "      progress.max = size;\n",
              "      div.appendChild(progress);\n",
              "      document.body.appendChild(div);\n",
              "\n",
              "      const buffers = [];\n",
              "      let downloaded = 0;\n",
              "\n",
              "      const channel = await google.colab.kernel.comms.open(id);\n",
              "      // Send a message to notify the kernel that we're ready.\n",
              "      channel.send({})\n",
              "\n",
              "      for await (const message of channel.messages) {\n",
              "        // Send a message to notify the kernel that we're ready.\n",
              "        channel.send({})\n",
              "        if (message.buffers) {\n",
              "          for (const buffer of message.buffers) {\n",
              "            buffers.push(buffer);\n",
              "            downloaded += buffer.byteLength;\n",
              "            progress.value = downloaded;\n",
              "          }\n",
              "        }\n",
              "      }\n",
              "      const blob = new Blob(buffers, {type: 'application/binary'});\n",
              "      const a = document.createElement('a');\n",
              "      a.href = window.URL.createObjectURL(blob);\n",
              "      a.download = filename;\n",
              "      div.appendChild(a);\n",
              "      a.click();\n",
              "      div.remove();\n",
              "    }\n",
              "  "
            ]
          },
          "metadata": {}
        },
        {
          "output_type": "display_data",
          "data": {
            "text/plain": [
              "<IPython.core.display.Javascript object>"
            ],
            "application/javascript": [
              "download(\"download_b52139b8-f64d-4805-a49d-aa9e7f83dd53\", \"2019_download_results_201_300.xlsx\", 8078)"
            ]
          },
          "metadata": {}
        }
      ]
    },
    {
      "cell_type": "code",
      "source": [
        "# Download the folder with all files to local\n",
        "zip_file = f\"{folder}.zip\"\n",
        "os.system(f\"zip -r {zip_file} /content/{folder}\")\n",
        "\n",
        "files.download(f\"/content/{zip_file}\")"
      ],
      "metadata": {
        "id": "8G35Vre1ZeXy",
        "colab": {
          "base_uri": "https://localhost:8080/"
        },
        "outputId": "6f6a775f-0842-4720-df8b-ddf6694405c7"
      },
      "execution_count": null,
      "outputs": [
        {
          "output_type": "display_data",
          "data": {
            "text/plain": [
              "<IPython.core.display.Javascript object>"
            ],
            "application/javascript": [
              "\n",
              "    async function download(id, filename, size) {\n",
              "      if (!google.colab.kernel.accessAllowed) {\n",
              "        return;\n",
              "      }\n",
              "      const div = document.createElement('div');\n",
              "      const label = document.createElement('label');\n",
              "      label.textContent = `Downloading \"${filename}\": `;\n",
              "      div.appendChild(label);\n",
              "      const progress = document.createElement('progress');\n",
              "      progress.max = size;\n",
              "      div.appendChild(progress);\n",
              "      document.body.appendChild(div);\n",
              "\n",
              "      const buffers = [];\n",
              "      let downloaded = 0;\n",
              "\n",
              "      const channel = await google.colab.kernel.comms.open(id);\n",
              "      // Send a message to notify the kernel that we're ready.\n",
              "      channel.send({})\n",
              "\n",
              "      for await (const message of channel.messages) {\n",
              "        // Send a message to notify the kernel that we're ready.\n",
              "        channel.send({})\n",
              "        if (message.buffers) {\n",
              "          for (const buffer of message.buffers) {\n",
              "            buffers.push(buffer);\n",
              "            downloaded += buffer.byteLength;\n",
              "            progress.value = downloaded;\n",
              "          }\n",
              "        }\n",
              "      }\n",
              "      const blob = new Blob(buffers, {type: 'application/binary'});\n",
              "      const a = document.createElement('a');\n",
              "      a.href = window.URL.createObjectURL(blob);\n",
              "      a.download = filename;\n",
              "      div.appendChild(a);\n",
              "      a.click();\n",
              "      div.remove();\n",
              "    }\n",
              "  "
            ]
          },
          "metadata": {}
        },
        {
          "output_type": "display_data",
          "data": {
            "text/plain": [
              "<IPython.core.display.Javascript object>"
            ],
            "application/javascript": [
              "download(\"download_a3d02c50-ba24-44fe-a568-1eb8b40f7e8b\", \"2019_downloaded_files_201_300.zip\", 234628463)"
            ]
          },
          "metadata": {}
        }
      ]
    }
  ]
}